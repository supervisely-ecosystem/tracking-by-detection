{
 "cells": [
  {
   "cell_type": "code",
   "execution_count": 1,
   "id": "bace5e72",
   "metadata": {},
   "outputs": [],
   "source": [
    "import pandas as pd\n"
   ]
  },
  {
   "cell_type": "code",
   "execution_count": 5,
   "id": "5efa1137",
   "metadata": {},
   "outputs": [
    {
     "data": {
      "text/html": [
       "<div>\n",
       "<style scoped>\n",
       "    .dataframe tbody tr th:only-of-type {\n",
       "        vertical-align: middle;\n",
       "    }\n",
       "\n",
       "    .dataframe tbody tr th {\n",
       "        vertical-align: top;\n",
       "    }\n",
       "\n",
       "    .dataframe thead th {\n",
       "        text-align: right;\n",
       "    }\n",
       "</style>\n",
       "<table border=\"1\" class=\"dataframe\">\n",
       "  <thead>\n",
       "    <tr style=\"text-align: right;\">\n",
       "      <th></th>\n",
       "      <th>tracker</th>\n",
       "      <th>mota</th>\n",
       "      <th>idf1</th>\n",
       "      <th>precision</th>\n",
       "      <th>recall</th>\n",
       "      <th>num_switches</th>\n",
       "      <th>num_false_positives</th>\n",
       "      <th>num_misses</th>\n",
       "    </tr>\n",
       "  </thead>\n",
       "  <tbody>\n",
       "    <tr>\n",
       "      <th>0</th>\n",
       "      <td>botsort_boxmot_reid</td>\n",
       "      <td>0.412342</td>\n",
       "      <td>0.458049</td>\n",
       "      <td>0.669424</td>\n",
       "      <td>0.826888</td>\n",
       "      <td>31</td>\n",
       "      <td>2038</td>\n",
       "      <td>864</td>\n",
       "    </tr>\n",
       "    <tr>\n",
       "      <th>1</th>\n",
       "      <td>botsort_original_reid</td>\n",
       "      <td>0.408535</td>\n",
       "      <td>0.458984</td>\n",
       "      <td>0.668347</td>\n",
       "      <td>0.823683</td>\n",
       "      <td>32</td>\n",
       "      <td>2040</td>\n",
       "      <td>880</td>\n",
       "    </tr>\n",
       "  </tbody>\n",
       "</table>\n",
       "</div>"
      ],
      "text/plain": [
       "                 tracker      mota      idf1  precision    recall  \\\n",
       "0    botsort_boxmot_reid  0.412342  0.458049   0.669424  0.826888   \n",
       "1  botsort_original_reid  0.408535  0.458984   0.668347  0.823683   \n",
       "\n",
       "   num_switches  num_false_positives  num_misses  \n",
       "0            31                 2038         864  \n",
       "1            32                 2040         880  "
      ]
     },
     "execution_count": 5,
     "metadata": {},
     "output_type": "execute_result"
    }
   ],
   "source": [
    "metrics = pd.read_excel('../data/eval_result/SportsMOT/track_with_fix/metrics_2.xlsx')\n",
    "metrics"
   ]
  },
  {
   "cell_type": "code",
   "execution_count": 5,
   "id": "394180e9",
   "metadata": {},
   "outputs": [],
   "source": [
    "# Правка GT-файла в правильный формат\n",
    "input_path = '../data/dataset/train/v_-6Os86HzwCs_c009/gt/gt.txt'\n",
    "output_path = '../data/dataset/train/v_-6Os86HzwCs_c009/gt/gt_fixed.txt'\n",
    "\n",
    "with open(input_path, 'r') as f_in, open(output_path, 'w') as f_out:\n",
    "    for line in f_in:\n",
    "        parts = [x.strip() for x in line.strip().split(',')]\n",
    "        if len(parts) == 9:\n",
    "            parts += ['-1']\n",
    "        if len(parts) == 10:\n",
    "            f_out.write(','.join(parts) + '\\n')\n",
    "        else:\n",
    "            print(f\"Строка с ошибкой: {line.strip()}\")\n"
   ]
  },
  {
   "cell_type": "code",
   "execution_count": 10,
   "id": "ebac3771",
   "metadata": {},
   "outputs": [
    {
     "name": "stdout",
     "output_type": "stream",
     "text": [
      "sbs_R50-ibn.yml\n",
      "sbs_S50.yml\n",
      "mgn_R50-ibn.yml\n",
      "sbs_R50.yml\n",
      "AGW_S50.yml\n",
      "AGW_R50.yml\n",
      "bagtricks_R50.yml\n",
      "bagtricks_R50-ibn.yml\n",
      "AGW_R101-ibn.yml\n",
      "bagtricks_R101-ibn.yml\n",
      "sbs_R101-ibn.yml\n",
      "AGW_R50-ibn.yml\n",
      "bagtricks_S50.yml\n"
     ]
    }
   ],
   "source": [
    "import os \n",
    "\n",
    "for m in os.listdir('/root/tracking-by-detection/botsort/fast_reid/configs/MOT17'):\n",
    "    print(m)"
   ]
  }
 ],
 "metadata": {
  "kernelspec": {
   "display_name": "venv",
   "language": "python",
   "name": "python3"
  },
  "language_info": {
   "codemirror_mode": {
    "name": "ipython",
    "version": 3
   },
   "file_extension": ".py",
   "mimetype": "text/x-python",
   "name": "python",
   "nbconvert_exporter": "python",
   "pygments_lexer": "ipython3",
   "version": "3.9.23"
  }
 },
 "nbformat": 4,
 "nbformat_minor": 5
}

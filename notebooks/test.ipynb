{
 "cells": [
  {
   "cell_type": "code",
   "execution_count": 1,
   "id": "bace5e72",
   "metadata": {},
   "outputs": [],
   "source": [
    "import pandas as pd\n"
   ]
  },
  {
   "cell_type": "code",
   "execution_count": 5,
   "id": "5efa1137",
   "metadata": {},
   "outputs": [
    {
     "data": {
      "text/html": [
       "<div>\n",
       "<style scoped>\n",
       "    .dataframe tbody tr th:only-of-type {\n",
       "        vertical-align: middle;\n",
       "    }\n",
       "\n",
       "    .dataframe tbody tr th {\n",
       "        vertical-align: top;\n",
       "    }\n",
       "\n",
       "    .dataframe thead th {\n",
       "        text-align: right;\n",
       "    }\n",
       "</style>\n",
       "<table border=\"1\" class=\"dataframe\">\n",
       "  <thead>\n",
       "    <tr style=\"text-align: right;\">\n",
       "      <th></th>\n",
       "      <th>tracker</th>\n",
       "      <th>mota</th>\n",
       "      <th>idf1</th>\n",
       "      <th>precision</th>\n",
       "      <th>recall</th>\n",
       "      <th>num_switches</th>\n",
       "      <th>num_false_positives</th>\n",
       "      <th>num_misses</th>\n",
       "    </tr>\n",
       "  </thead>\n",
       "  <tbody>\n",
       "    <tr>\n",
       "      <th>0</th>\n",
       "      <td>botsort_boxmot_reid</td>\n",
       "      <td>0.412342</td>\n",
       "      <td>0.458049</td>\n",
       "      <td>0.669424</td>\n",
       "      <td>0.826888</td>\n",
       "      <td>31</td>\n",
       "      <td>2038</td>\n",
       "      <td>864</td>\n",
       "    </tr>\n",
       "    <tr>\n",
       "      <th>1</th>\n",
       "      <td>botsort_original_reid</td>\n",
       "      <td>0.408535</td>\n",
       "      <td>0.458984</td>\n",
       "      <td>0.668347</td>\n",
       "      <td>0.823683</td>\n",
       "      <td>32</td>\n",
       "      <td>2040</td>\n",
       "      <td>880</td>\n",
       "    </tr>\n",
       "  </tbody>\n",
       "</table>\n",
       "</div>"
      ],
      "text/plain": [
       "                 tracker      mota      idf1  precision    recall  \\\n",
       "0    botsort_boxmot_reid  0.412342  0.458049   0.669424  0.826888   \n",
       "1  botsort_original_reid  0.408535  0.458984   0.668347  0.823683   \n",
       "\n",
       "   num_switches  num_false_positives  num_misses  \n",
       "0            31                 2038         864  \n",
       "1            32                 2040         880  "
      ]
     },
     "execution_count": 5,
     "metadata": {},
     "output_type": "execute_result"
    }
   ],
   "source": [
    "metrics = pd.read_excel('../data/eval_result/SportsMOT/track_with_fix/metrics_2.xlsx')\n",
    "metrics"
   ]
  },
  {
   "cell_type": "code",
   "execution_count": 5,
   "id": "394180e9",
   "metadata": {},
   "outputs": [],
   "source": [
    "# Правка GT-файла в правильный формат\n",
    "input_path = '../data/dataset/train/v_-6Os86HzwCs_c009/gt/gt.txt'\n",
    "output_path = '../data/dataset/train/v_-6Os86HzwCs_c009/gt/gt_fixed.txt'\n",
    "\n",
    "with open(input_path, 'r') as f_in, open(output_path, 'w') as f_out:\n",
    "    for line in f_in:\n",
    "        parts = [x.strip() for x in line.strip().split(',')]\n",
    "        if len(parts) == 9:\n",
    "            parts += ['-1']\n",
    "        if len(parts) == 10:\n",
    "            f_out.write(','.join(parts) + '\\n')\n",
    "        else:\n",
    "            print(f\"Строка с ошибкой: {line.strip()}\")\n"
   ]
  },
  {
   "cell_type": "code",
   "execution_count": 10,
   "id": "ebac3771",
   "metadata": {},
   "outputs": [
    {
     "name": "stdout",
     "output_type": "stream",
     "text": [
      "sbs_R50-ibn.yml\n",
      "sbs_S50.yml\n",
      "mgn_R50-ibn.yml\n",
      "sbs_R50.yml\n",
      "AGW_S50.yml\n",
      "AGW_R50.yml\n",
      "bagtricks_R50.yml\n",
      "bagtricks_R50-ibn.yml\n",
      "AGW_R101-ibn.yml\n",
      "bagtricks_R101-ibn.yml\n",
      "sbs_R101-ibn.yml\n",
      "AGW_R50-ibn.yml\n",
      "bagtricks_S50.yml\n"
     ]
    }
   ],
   "source": [
    "import os \n",
    "\n",
    "for m in os.listdir('/root/tracking-by-detection/botsort/fast_reid/configs/MOT17'):\n",
    "    print(m)"
   ]
  },
  {
   "cell_type": "code",
   "execution_count": 16,
   "id": "23d1630f",
   "metadata": {},
   "outputs": [
    {
     "ename": "ModuleNotFoundError",
     "evalue": "No module named 'tracker'",
     "output_type": "error",
     "traceback": [
      "\u001b[0;31m---------------------------------------------------------------------------\u001b[0m",
      "\u001b[0;31mModuleNotFoundError\u001b[0m                       Traceback (most recent call last)",
      "Cell \u001b[0;32mIn[16], line 1\u001b[0m\n\u001b[0;32m----> 1\u001b[0m \u001b[38;5;28;01mfrom\u001b[39;00m\u001b[38;5;250m \u001b[39m\u001b[38;5;21;01msupervisely\u001b[39;00m\u001b[38;5;21;01m.\u001b[39;00m\u001b[38;5;21;01mnn\u001b[39;00m\u001b[38;5;21;01m.\u001b[39;00m\u001b[38;5;21;01mtracker\u001b[39;00m\u001b[38;5;21;01m.\u001b[39;00m\u001b[38;5;21;01mbotsort\u001b[39;00m\u001b[38;5;21;01m.\u001b[39;00m\u001b[38;5;21;01mtracker\u001b[39;00m\u001b[38;5;21;01m.\u001b[39;00m\u001b[38;5;21;01mmc_bot_sort\u001b[39;00m\u001b[38;5;250m \u001b[39m\u001b[38;5;28;01mimport\u001b[39;00m BoTSORT\n",
      "File \u001b[0;32m~/tracking-by-detection/supervisely/supervisely/nn/tracker/botsort/tracker/mc_bot_sort.py:6\u001b[0m\n\u001b[1;32m      3\u001b[0m \u001b[38;5;28;01mimport\u001b[39;00m\u001b[38;5;250m \u001b[39m\u001b[38;5;21;01mnumpy\u001b[39;00m\u001b[38;5;250m \u001b[39m\u001b[38;5;28;01mas\u001b[39;00m\u001b[38;5;250m \u001b[39m\u001b[38;5;21;01mnp\u001b[39;00m\n\u001b[1;32m      4\u001b[0m \u001b[38;5;28;01mfrom\u001b[39;00m\u001b[38;5;250m \u001b[39m\u001b[38;5;21;01mcollections\u001b[39;00m\u001b[38;5;250m \u001b[39m\u001b[38;5;28;01mimport\u001b[39;00m deque\n\u001b[0;32m----> 6\u001b[0m \u001b[38;5;28;01mfrom\u001b[39;00m\u001b[38;5;250m \u001b[39m\u001b[38;5;21;01mtracker\u001b[39;00m\u001b[38;5;250m \u001b[39m\u001b[38;5;28;01mimport\u001b[39;00m matching\n\u001b[1;32m      7\u001b[0m \u001b[38;5;28;01mfrom\u001b[39;00m\u001b[38;5;250m \u001b[39m\u001b[38;5;21;01mtracker\u001b[39;00m\u001b[38;5;21;01m.\u001b[39;00m\u001b[38;5;21;01mgmc\u001b[39;00m\u001b[38;5;250m \u001b[39m\u001b[38;5;28;01mimport\u001b[39;00m GMC\n\u001b[1;32m      8\u001b[0m \u001b[38;5;28;01mfrom\u001b[39;00m\u001b[38;5;250m \u001b[39m\u001b[38;5;21;01mtracker\u001b[39;00m\u001b[38;5;21;01m.\u001b[39;00m\u001b[38;5;21;01mbasetrack\u001b[39;00m\u001b[38;5;250m \u001b[39m\u001b[38;5;28;01mimport\u001b[39;00m BaseTrack, TrackState\n",
      "\u001b[0;31mModuleNotFoundError\u001b[0m: No module named 'tracker'"
     ]
    }
   ],
   "source": [
    "from supervisely.nn.tracker.botsort.tracker.mc_bot_sort import BoTSORT\n"
   ]
  },
  {
   "cell_type": "code",
   "execution_count": 15,
   "id": "0d10506f",
   "metadata": {},
   "outputs": [
    {
     "ename": "TypeError",
     "evalue": "__init__() missing 1 required positional argument: 'args'",
     "output_type": "error",
     "traceback": [
      "\u001b[0;31m---------------------------------------------------------------------------\u001b[0m",
      "\u001b[0;31mTypeError\u001b[0m                                 Traceback (most recent call last)",
      "Cell \u001b[0;32mIn[15], line 1\u001b[0m\n\u001b[0;32m----> 1\u001b[0m tracker \u001b[38;5;241m=\u001b[39m \u001b[43mBoTSORT\u001b[49m\u001b[43m(\u001b[49m\u001b[43m)\u001b[49m\n",
      "\u001b[0;31mTypeError\u001b[0m: __init__() missing 1 required positional argument: 'args'"
     ]
    }
   ],
   "source": [
    "tracker = BoTSORT()"
   ]
  }
 ],
 "metadata": {
  "kernelspec": {
   "display_name": "venv",
   "language": "python",
   "name": "python3"
  },
  "language_info": {
   "codemirror_mode": {
    "name": "ipython",
    "version": 3
   },
   "file_extension": ".py",
   "mimetype": "text/x-python",
   "name": "python",
   "nbconvert_exporter": "python",
   "pygments_lexer": "ipython3",
   "version": "3.9.23"
  }
 },
 "nbformat": 4,
 "nbformat_minor": 5
}

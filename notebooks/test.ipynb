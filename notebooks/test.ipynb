{
 "cells": [
  {
   "cell_type": "code",
   "execution_count": 1,
   "id": "bace5e72",
   "metadata": {},
   "outputs": [],
   "source": [
    "import pandas as pd\n"
   ]
  },
  {
   "cell_type": "code",
   "execution_count": 2,
   "id": "5efa1137",
   "metadata": {},
   "outputs": [
    {
     "ename": "ImportError",
     "evalue": "Missing optional dependency 'openpyxl'.  Use pip or conda to install openpyxl.",
     "output_type": "error",
     "traceback": [
      "\u001b[0;31m---------------------------------------------------------------------------\u001b[0m",
      "\u001b[0;31mModuleNotFoundError\u001b[0m                       Traceback (most recent call last)",
      "File \u001b[0;32m~/tracking-by-detection/venv2/lib/python3.10/site-packages/pandas/compat/_optional.py:132\u001b[0m, in \u001b[0;36mimport_optional_dependency\u001b[0;34m(name, extra, errors, min_version)\u001b[0m\n\u001b[1;32m    131\u001b[0m \u001b[38;5;28;01mtry\u001b[39;00m:\n\u001b[0;32m--> 132\u001b[0m     module \u001b[38;5;241m=\u001b[39m \u001b[43mimportlib\u001b[49m\u001b[38;5;241;43m.\u001b[39;49m\u001b[43mimport_module\u001b[49m\u001b[43m(\u001b[49m\u001b[43mname\u001b[49m\u001b[43m)\u001b[49m\n\u001b[1;32m    133\u001b[0m \u001b[38;5;28;01mexcept\u001b[39;00m \u001b[38;5;167;01mImportError\u001b[39;00m:\n",
      "File \u001b[0;32m/usr/lib/python3.10/importlib/__init__.py:126\u001b[0m, in \u001b[0;36mimport_module\u001b[0;34m(name, package)\u001b[0m\n\u001b[1;32m    125\u001b[0m         level \u001b[38;5;241m+\u001b[39m\u001b[38;5;241m=\u001b[39m \u001b[38;5;241m1\u001b[39m\n\u001b[0;32m--> 126\u001b[0m \u001b[38;5;28;01mreturn\u001b[39;00m \u001b[43m_bootstrap\u001b[49m\u001b[38;5;241;43m.\u001b[39;49m\u001b[43m_gcd_import\u001b[49m\u001b[43m(\u001b[49m\u001b[43mname\u001b[49m\u001b[43m[\u001b[49m\u001b[43mlevel\u001b[49m\u001b[43m:\u001b[49m\u001b[43m]\u001b[49m\u001b[43m,\u001b[49m\u001b[43m \u001b[49m\u001b[43mpackage\u001b[49m\u001b[43m,\u001b[49m\u001b[43m \u001b[49m\u001b[43mlevel\u001b[49m\u001b[43m)\u001b[49m\n",
      "File \u001b[0;32m<frozen importlib._bootstrap>:1050\u001b[0m, in \u001b[0;36m_gcd_import\u001b[0;34m(name, package, level)\u001b[0m\n",
      "File \u001b[0;32m<frozen importlib._bootstrap>:1027\u001b[0m, in \u001b[0;36m_find_and_load\u001b[0;34m(name, import_)\u001b[0m\n",
      "File \u001b[0;32m<frozen importlib._bootstrap>:1004\u001b[0m, in \u001b[0;36m_find_and_load_unlocked\u001b[0;34m(name, import_)\u001b[0m\n",
      "\u001b[0;31mModuleNotFoundError\u001b[0m: No module named 'openpyxl'",
      "\nDuring handling of the above exception, another exception occurred:\n",
      "\u001b[0;31mImportError\u001b[0m                               Traceback (most recent call last)",
      "Cell \u001b[0;32mIn[2], line 1\u001b[0m\n\u001b[0;32m----> 1\u001b[0m metrics \u001b[38;5;241m=\u001b[39m \u001b[43mpd\u001b[49m\u001b[38;5;241;43m.\u001b[39;49m\u001b[43mread_excel\u001b[49m\u001b[43m(\u001b[49m\u001b[38;5;124;43m'\u001b[39;49m\u001b[38;5;124;43m../data/eval_result/SportsMOT/sly_test/metrics_1.xlsx\u001b[39;49m\u001b[38;5;124;43m'\u001b[39;49m\u001b[43m)\u001b[49m\n\u001b[1;32m      2\u001b[0m metrics\n",
      "File \u001b[0;32m~/tracking-by-detection/venv2/lib/python3.10/site-packages/pandas/io/excel/_base.py:504\u001b[0m, in \u001b[0;36mread_excel\u001b[0;34m(io, sheet_name, header, names, index_col, usecols, dtype, engine, converters, true_values, false_values, skiprows, nrows, na_values, keep_default_na, na_filter, verbose, parse_dates, date_parser, date_format, thousands, decimal, comment, skipfooter, storage_options, dtype_backend, engine_kwargs)\u001b[0m\n\u001b[1;32m    502\u001b[0m \u001b[38;5;28;01mif\u001b[39;00m \u001b[38;5;129;01mnot\u001b[39;00m \u001b[38;5;28misinstance\u001b[39m(io, ExcelFile):\n\u001b[1;32m    503\u001b[0m     should_close \u001b[38;5;241m=\u001b[39m \u001b[38;5;28;01mTrue\u001b[39;00m\n\u001b[0;32m--> 504\u001b[0m     io \u001b[38;5;241m=\u001b[39m \u001b[43mExcelFile\u001b[49m\u001b[43m(\u001b[49m\n\u001b[1;32m    505\u001b[0m \u001b[43m        \u001b[49m\u001b[43mio\u001b[49m\u001b[43m,\u001b[49m\n\u001b[1;32m    506\u001b[0m \u001b[43m        \u001b[49m\u001b[43mstorage_options\u001b[49m\u001b[38;5;241;43m=\u001b[39;49m\u001b[43mstorage_options\u001b[49m\u001b[43m,\u001b[49m\n\u001b[1;32m    507\u001b[0m \u001b[43m        \u001b[49m\u001b[43mengine\u001b[49m\u001b[38;5;241;43m=\u001b[39;49m\u001b[43mengine\u001b[49m\u001b[43m,\u001b[49m\n\u001b[1;32m    508\u001b[0m \u001b[43m        \u001b[49m\u001b[43mengine_kwargs\u001b[49m\u001b[38;5;241;43m=\u001b[39;49m\u001b[43mengine_kwargs\u001b[49m\u001b[43m,\u001b[49m\n\u001b[1;32m    509\u001b[0m \u001b[43m    \u001b[49m\u001b[43m)\u001b[49m\n\u001b[1;32m    510\u001b[0m \u001b[38;5;28;01melif\u001b[39;00m engine \u001b[38;5;129;01mand\u001b[39;00m engine \u001b[38;5;241m!=\u001b[39m io\u001b[38;5;241m.\u001b[39mengine:\n\u001b[1;32m    511\u001b[0m     \u001b[38;5;28;01mraise\u001b[39;00m \u001b[38;5;167;01mValueError\u001b[39;00m(\n\u001b[1;32m    512\u001b[0m         \u001b[38;5;124m\"\u001b[39m\u001b[38;5;124mEngine should not be specified when passing \u001b[39m\u001b[38;5;124m\"\u001b[39m\n\u001b[1;32m    513\u001b[0m         \u001b[38;5;124m\"\u001b[39m\u001b[38;5;124man ExcelFile - ExcelFile already has the engine set\u001b[39m\u001b[38;5;124m\"\u001b[39m\n\u001b[1;32m    514\u001b[0m     )\n",
      "File \u001b[0;32m~/tracking-by-detection/venv2/lib/python3.10/site-packages/pandas/io/excel/_base.py:1580\u001b[0m, in \u001b[0;36mExcelFile.__init__\u001b[0;34m(self, path_or_buffer, engine, storage_options, engine_kwargs)\u001b[0m\n\u001b[1;32m   1577\u001b[0m \u001b[38;5;28mself\u001b[39m\u001b[38;5;241m.\u001b[39mengine \u001b[38;5;241m=\u001b[39m engine\n\u001b[1;32m   1578\u001b[0m \u001b[38;5;28mself\u001b[39m\u001b[38;5;241m.\u001b[39mstorage_options \u001b[38;5;241m=\u001b[39m storage_options\n\u001b[0;32m-> 1580\u001b[0m \u001b[38;5;28mself\u001b[39m\u001b[38;5;241m.\u001b[39m_reader \u001b[38;5;241m=\u001b[39m \u001b[38;5;28;43mself\u001b[39;49m\u001b[38;5;241;43m.\u001b[39;49m\u001b[43m_engines\u001b[49m\u001b[43m[\u001b[49m\u001b[43mengine\u001b[49m\u001b[43m]\u001b[49m\u001b[43m(\u001b[49m\n\u001b[1;32m   1581\u001b[0m \u001b[43m    \u001b[49m\u001b[38;5;28;43mself\u001b[39;49m\u001b[38;5;241;43m.\u001b[39;49m\u001b[43m_io\u001b[49m\u001b[43m,\u001b[49m\n\u001b[1;32m   1582\u001b[0m \u001b[43m    \u001b[49m\u001b[43mstorage_options\u001b[49m\u001b[38;5;241;43m=\u001b[39;49m\u001b[43mstorage_options\u001b[49m\u001b[43m,\u001b[49m\n\u001b[1;32m   1583\u001b[0m \u001b[43m    \u001b[49m\u001b[43mengine_kwargs\u001b[49m\u001b[38;5;241;43m=\u001b[39;49m\u001b[43mengine_kwargs\u001b[49m\u001b[43m,\u001b[49m\n\u001b[1;32m   1584\u001b[0m \u001b[43m\u001b[49m\u001b[43m)\u001b[49m\n",
      "File \u001b[0;32m~/tracking-by-detection/venv2/lib/python3.10/site-packages/pandas/io/excel/_openpyxl.py:552\u001b[0m, in \u001b[0;36mOpenpyxlReader.__init__\u001b[0;34m(self, filepath_or_buffer, storage_options, engine_kwargs)\u001b[0m\n\u001b[1;32m    534\u001b[0m \u001b[38;5;129m@doc\u001b[39m(storage_options\u001b[38;5;241m=\u001b[39m_shared_docs[\u001b[38;5;124m\"\u001b[39m\u001b[38;5;124mstorage_options\u001b[39m\u001b[38;5;124m\"\u001b[39m])\n\u001b[1;32m    535\u001b[0m \u001b[38;5;28;01mdef\u001b[39;00m\u001b[38;5;250m \u001b[39m\u001b[38;5;21m__init__\u001b[39m(\n\u001b[1;32m    536\u001b[0m     \u001b[38;5;28mself\u001b[39m,\n\u001b[0;32m   (...)\u001b[0m\n\u001b[1;32m    539\u001b[0m     engine_kwargs: \u001b[38;5;28mdict\u001b[39m \u001b[38;5;241m|\u001b[39m \u001b[38;5;28;01mNone\u001b[39;00m \u001b[38;5;241m=\u001b[39m \u001b[38;5;28;01mNone\u001b[39;00m,\n\u001b[1;32m    540\u001b[0m ) \u001b[38;5;241m-\u001b[39m\u001b[38;5;241m>\u001b[39m \u001b[38;5;28;01mNone\u001b[39;00m:\n\u001b[1;32m    541\u001b[0m \u001b[38;5;250m    \u001b[39m\u001b[38;5;124;03m\"\"\"\u001b[39;00m\n\u001b[1;32m    542\u001b[0m \u001b[38;5;124;03m    Reader using openpyxl engine.\u001b[39;00m\n\u001b[1;32m    543\u001b[0m \n\u001b[0;32m   (...)\u001b[0m\n\u001b[1;32m    550\u001b[0m \u001b[38;5;124;03m        Arbitrary keyword arguments passed to excel engine.\u001b[39;00m\n\u001b[1;32m    551\u001b[0m \u001b[38;5;124;03m    \"\"\"\u001b[39;00m\n\u001b[0;32m--> 552\u001b[0m     \u001b[43mimport_optional_dependency\u001b[49m\u001b[43m(\u001b[49m\u001b[38;5;124;43m\"\u001b[39;49m\u001b[38;5;124;43mopenpyxl\u001b[39;49m\u001b[38;5;124;43m\"\u001b[39;49m\u001b[43m)\u001b[49m\n\u001b[1;32m    553\u001b[0m     \u001b[38;5;28msuper\u001b[39m()\u001b[38;5;241m.\u001b[39m\u001b[38;5;21m__init__\u001b[39m(\n\u001b[1;32m    554\u001b[0m         filepath_or_buffer,\n\u001b[1;32m    555\u001b[0m         storage_options\u001b[38;5;241m=\u001b[39mstorage_options,\n\u001b[1;32m    556\u001b[0m         engine_kwargs\u001b[38;5;241m=\u001b[39mengine_kwargs,\n\u001b[1;32m    557\u001b[0m     )\n",
      "File \u001b[0;32m~/tracking-by-detection/venv2/lib/python3.10/site-packages/pandas/compat/_optional.py:135\u001b[0m, in \u001b[0;36mimport_optional_dependency\u001b[0;34m(name, extra, errors, min_version)\u001b[0m\n\u001b[1;32m    133\u001b[0m \u001b[38;5;28;01mexcept\u001b[39;00m \u001b[38;5;167;01mImportError\u001b[39;00m:\n\u001b[1;32m    134\u001b[0m     \u001b[38;5;28;01mif\u001b[39;00m errors \u001b[38;5;241m==\u001b[39m \u001b[38;5;124m\"\u001b[39m\u001b[38;5;124mraise\u001b[39m\u001b[38;5;124m\"\u001b[39m:\n\u001b[0;32m--> 135\u001b[0m         \u001b[38;5;28;01mraise\u001b[39;00m \u001b[38;5;167;01mImportError\u001b[39;00m(msg)\n\u001b[1;32m    136\u001b[0m     \u001b[38;5;28;01mreturn\u001b[39;00m \u001b[38;5;28;01mNone\u001b[39;00m\n\u001b[1;32m    138\u001b[0m \u001b[38;5;66;03m# Handle submodules: if we have submodule, grab parent module from sys.modules\u001b[39;00m\n",
      "\u001b[0;31mImportError\u001b[0m: Missing optional dependency 'openpyxl'.  Use pip or conda to install openpyxl."
     ]
    }
   ],
   "source": [
    "metrics = pd.read_excel('../data/eval_result/SportsMOT/sly_test/metrics_1.xlsx')\n",
    "metrics"
   ]
  },
  {
   "cell_type": "code",
   "execution_count": null,
   "id": "f878c0db",
   "metadata": {},
   "outputs": [
    {
     "data": {
      "text/plain": [
       "tracker                botsort_original_reid\n",
       "mota                                0.014827\n",
       "idf1                                 0.28785\n",
       "precision                           0.513669\n",
       "recall                              0.877179\n",
       "num_switches                             159\n",
       "num_false_positives                     4145\n",
       "num_misses                               613\n",
       "Name: 0, dtype: object"
      ]
     },
     "execution_count": 33,
     "metadata": {},
     "output_type": "execute_result"
    }
   ],
   "source": [
    "metrics.iloc[0]"
   ]
  },
  {
   "cell_type": "code",
   "execution_count": null,
   "id": "878478c1",
   "metadata": {},
   "outputs": [
    {
     "data": {
      "text/html": [
       "<div>\n",
       "<style scoped>\n",
       "    .dataframe tbody tr th:only-of-type {\n",
       "        vertical-align: middle;\n",
       "    }\n",
       "\n",
       "    .dataframe tbody tr th {\n",
       "        vertical-align: top;\n",
       "    }\n",
       "\n",
       "    .dataframe thead th {\n",
       "        text-align: right;\n",
       "    }\n",
       "</style>\n",
       "<table border=\"1\" class=\"dataframe\">\n",
       "  <thead>\n",
       "    <tr style=\"text-align: right;\">\n",
       "      <th></th>\n",
       "      <th>tracker</th>\n",
       "      <th>mota</th>\n",
       "      <th>idf1</th>\n",
       "      <th>precision</th>\n",
       "      <th>recall</th>\n",
       "      <th>num_switches</th>\n",
       "      <th>num_false_positives</th>\n",
       "      <th>num_misses</th>\n",
       "    </tr>\n",
       "  </thead>\n",
       "  <tbody>\n",
       "    <tr>\n",
       "      <th>0</th>\n",
       "      <td>botsort_original_reid</td>\n",
       "      <td>0.086756</td>\n",
       "      <td>0.442951</td>\n",
       "      <td>0.528963</td>\n",
       "      <td>0.874574</td>\n",
       "      <td>45</td>\n",
       "      <td>3887</td>\n",
       "      <td>626</td>\n",
       "    </tr>\n",
       "  </tbody>\n",
       "</table>\n",
       "</div>"
      ],
      "text/plain": [
       "                 tracker      mota      idf1  precision    recall  \\\n",
       "0  botsort_original_reid  0.086756  0.442951   0.528963  0.874574   \n",
       "\n",
       "   num_switches  num_false_positives  num_misses  \n",
       "0            45                 3887         626  "
      ]
     },
     "execution_count": 34,
     "metadata": {},
     "output_type": "execute_result"
    }
   ],
   "source": [
    "metrics2 = pd.read_excel('../data/eval_result/SportsMOT/sly_test_direct/metrics_1.xlsx')\n",
    "metrics2"
   ]
  },
  {
   "cell_type": "code",
   "execution_count": null,
   "id": "8be2d8b9",
   "metadata": {},
   "outputs": [
    {
     "data": {
      "text/plain": [
       "tracker                botsort_original_reid\n",
       "mota                                0.086756\n",
       "idf1                                0.442951\n",
       "precision                           0.528963\n",
       "recall                              0.874574\n",
       "num_switches                              45\n",
       "num_false_positives                     3887\n",
       "num_misses                               626\n",
       "Name: 0, dtype: object"
      ]
     },
     "execution_count": 35,
     "metadata": {},
     "output_type": "execute_result"
    }
   ],
   "source": [
    "metrics2.iloc[0]"
   ]
  },
  {
   "cell_type": "code",
   "execution_count": null,
   "id": "03bb2493",
   "metadata": {},
   "outputs": [
    {
     "data": {
      "text/html": [
       "<div>\n",
       "<style scoped>\n",
       "    .dataframe tbody tr th:only-of-type {\n",
       "        vertical-align: middle;\n",
       "    }\n",
       "\n",
       "    .dataframe tbody tr th {\n",
       "        vertical-align: top;\n",
       "    }\n",
       "\n",
       "    .dataframe thead th {\n",
       "        text-align: right;\n",
       "    }\n",
       "</style>\n",
       "<table border=\"1\" class=\"dataframe\">\n",
       "  <thead>\n",
       "    <tr style=\"text-align: right;\">\n",
       "      <th></th>\n",
       "      <th>tracker</th>\n",
       "      <th>mota</th>\n",
       "      <th>idf1</th>\n",
       "      <th>precision</th>\n",
       "      <th>recall</th>\n",
       "      <th>num_switches</th>\n",
       "      <th>num_false_positives</th>\n",
       "      <th>num_misses</th>\n",
       "    </tr>\n",
       "  </thead>\n",
       "  <tbody>\n",
       "    <tr>\n",
       "      <th>0</th>\n",
       "      <td>botsort_boxmot_reid</td>\n",
       "      <td>0.412342</td>\n",
       "      <td>0.458049</td>\n",
       "      <td>0.669424</td>\n",
       "      <td>0.826888</td>\n",
       "      <td>31</td>\n",
       "      <td>2038</td>\n",
       "      <td>864</td>\n",
       "    </tr>\n",
       "    <tr>\n",
       "      <th>1</th>\n",
       "      <td>botsort_original_reid</td>\n",
       "      <td>0.408535</td>\n",
       "      <td>0.458984</td>\n",
       "      <td>0.668347</td>\n",
       "      <td>0.823683</td>\n",
       "      <td>32</td>\n",
       "      <td>2040</td>\n",
       "      <td>880</td>\n",
       "    </tr>\n",
       "  </tbody>\n",
       "</table>\n",
       "</div>"
      ],
      "text/plain": [
       "                 tracker      mota      idf1  precision    recall  \\\n",
       "0    botsort_boxmot_reid  0.412342  0.458049   0.669424  0.826888   \n",
       "1  botsort_original_reid  0.408535  0.458984   0.668347  0.823683   \n",
       "\n",
       "   num_switches  num_false_positives  num_misses  \n",
       "0            31                 2038         864  \n",
       "1            32                 2040         880  "
      ]
     },
     "execution_count": 5,
     "metadata": {},
     "output_type": "execute_result"
    }
   ],
   "source": [
    "metrics3 = pd.read_excel('../data/eval_result/SportsMOT/track_with_fix/metrics_2.xlsx')\n",
    "metrics3"
   ]
  },
  {
   "cell_type": "code",
   "execution_count": null,
   "id": "7e08cf78",
   "metadata": {},
   "outputs": [
    {
     "data": {
      "text/plain": [
       "tracker                botsort_original_reid\n",
       "mota                                0.408535\n",
       "idf1                                0.458984\n",
       "precision                           0.668347\n",
       "recall                              0.823683\n",
       "num_switches                              32\n",
       "num_false_positives                     2040\n",
       "num_misses                               880\n",
       "Name: 1, dtype: object"
      ]
     },
     "execution_count": 37,
     "metadata": {},
     "output_type": "execute_result"
    }
   ],
   "source": [
    "metrics3.iloc[1]"
   ]
  },
  {
   "cell_type": "code",
   "execution_count": null,
   "id": "d063c836",
   "metadata": {},
   "outputs": [
    {
     "data": {
      "text/plain": [
       "tracker                botsort_original_reid\n",
       "mota                                0.087357\n",
       "idf1                                0.427827\n",
       "precision                            0.52934\n",
       "recall                              0.874775\n",
       "num_switches                              48\n",
       "num_false_positives                     3882\n",
       "num_misses                               625\n",
       "Name: 0, dtype: object"
      ]
     },
     "execution_count": 38,
     "metadata": {},
     "output_type": "execute_result"
    }
   ],
   "source": [
    "metrics4 = pd.read_excel('../data/eval_result/SportsMOT/sly_test_fixed/metrics_1.xlsx')\n",
    "metrics4.iloc[0]"
   ]
  },
  {
   "cell_type": "code",
   "execution_count": null,
   "id": "405d41b3",
   "metadata": {},
   "outputs": [
    {
     "data": {
      "text/plain": [
       "tracker                botsort_new_sdk\n",
       "mota                          0.291525\n",
       "idf1                          0.400034\n",
       "precision                     0.611693\n",
       "recall                        0.819675\n",
       "num_switches                        39\n",
       "num_false_positives               2597\n",
       "num_misses                         900\n",
       "Name: 0, dtype: object"
      ]
     },
     "execution_count": 45,
     "metadata": {},
     "output_type": "execute_result"
    }
   ],
   "source": [
    "metrics_sdk = pd.read_excel('../data/eval_result/SportsMOT/sdk_comparison/metrics_1.xlsx')\n",
    "metrics_sdk.iloc[0]"
   ]
  },
  {
   "cell_type": "code",
   "execution_count": null,
   "id": "85e2c99c",
   "metadata": {},
   "outputs": [
    {
     "data": {
      "text/html": [
       "<div>\n",
       "<style scoped>\n",
       "    .dataframe tbody tr th:only-of-type {\n",
       "        vertical-align: middle;\n",
       "    }\n",
       "\n",
       "    .dataframe tbody tr th {\n",
       "        vertical-align: top;\n",
       "    }\n",
       "\n",
       "    .dataframe thead th {\n",
       "        text-align: right;\n",
       "    }\n",
       "</style>\n",
       "<table border=\"1\" class=\"dataframe\">\n",
       "  <thead>\n",
       "    <tr style=\"text-align: right;\">\n",
       "      <th></th>\n",
       "      <th>tracker</th>\n",
       "      <th>mota</th>\n",
       "      <th>idf1</th>\n",
       "      <th>precision</th>\n",
       "      <th>recall</th>\n",
       "      <th>num_switches</th>\n",
       "      <th>num_false_positives</th>\n",
       "      <th>num_misses</th>\n",
       "    </tr>\n",
       "  </thead>\n",
       "  <tbody>\n",
       "    <tr>\n",
       "      <th>0</th>\n",
       "      <td>botsort_legacy_sdk</td>\n",
       "      <td>-1.395913</td>\n",
       "      <td>0.000000</td>\n",
       "      <td>0.000000</td>\n",
       "      <td>0.000000</td>\n",
       "      <td>0</td>\n",
       "      <td>6967</td>\n",
       "      <td>4991</td>\n",
       "    </tr>\n",
       "    <tr>\n",
       "      <th>1</th>\n",
       "      <td>botsort_new_sdk</td>\n",
       "      <td>0.291925</td>\n",
       "      <td>0.381776</td>\n",
       "      <td>0.612025</td>\n",
       "      <td>0.819876</td>\n",
       "      <td>41</td>\n",
       "      <td>2594</td>\n",
       "      <td>899</td>\n",
       "    </tr>\n",
       "  </tbody>\n",
       "</table>\n",
       "</div>"
      ],
      "text/plain": [
       "              tracker      mota      idf1  precision    recall  num_switches  \\\n",
       "0  botsort_legacy_sdk -1.395913  0.000000   0.000000  0.000000             0   \n",
       "1     botsort_new_sdk  0.291925  0.381776   0.612025  0.819876            41   \n",
       "\n",
       "   num_false_positives  num_misses  \n",
       "0                 6967        4991  \n",
       "1                 2594         899  "
      ]
     },
     "execution_count": 46,
     "metadata": {},
     "output_type": "execute_result"
    }
   ],
   "source": [
    "metrics_sdk_withour_reid = pd.read_excel('../data/eval_result/SportsMOT/sdk_comparison_without_reid/metrics_2.xlsx')\n",
    "metrics_sdk_withour_reid"
   ]
  },
  {
   "cell_type": "code",
   "execution_count": null,
   "id": "588422f7",
   "metadata": {},
   "outputs": [],
   "source": [
    "metrics3_and_metrics_sdk = pd.concat([metrics3[1:], metrics_sdk])"
   ]
  },
  {
   "cell_type": "code",
   "execution_count": null,
   "id": "eac2608d",
   "metadata": {},
   "outputs": [
    {
     "data": {
      "text/plain": [
       "tracker                botsort_original_reid\n",
       "mota                                0.408535\n",
       "idf1                                0.458984\n",
       "precision                           0.668347\n",
       "recall                              0.823683\n",
       "num_switches                              32\n",
       "num_false_positives                     2040\n",
       "num_misses                               880\n",
       "Name: 1, dtype: object"
      ]
     },
     "execution_count": 57,
     "metadata": {},
     "output_type": "execute_result"
    }
   ],
   "source": [
    "metrics3_and_metrics_sdk.iloc[0]"
   ]
  },
  {
   "cell_type": "code",
   "execution_count": null,
   "id": "28357d45",
   "metadata": {},
   "outputs": [
    {
     "data": {
      "text/html": [
       "<div>\n",
       "<style scoped>\n",
       "    .dataframe tbody tr th:only-of-type {\n",
       "        vertical-align: middle;\n",
       "    }\n",
       "\n",
       "    .dataframe tbody tr th {\n",
       "        vertical-align: top;\n",
       "    }\n",
       "\n",
       "    .dataframe thead th {\n",
       "        text-align: right;\n",
       "    }\n",
       "</style>\n",
       "<table border=\"1\" class=\"dataframe\">\n",
       "  <thead>\n",
       "    <tr style=\"text-align: right;\">\n",
       "      <th></th>\n",
       "      <th>tracker</th>\n",
       "      <th>mota</th>\n",
       "      <th>idf1</th>\n",
       "      <th>precision</th>\n",
       "      <th>recall</th>\n",
       "      <th>num_switches</th>\n",
       "      <th>num_false_positives</th>\n",
       "      <th>num_misses</th>\n",
       "    </tr>\n",
       "  </thead>\n",
       "  <tbody>\n",
       "    <tr>\n",
       "      <th>0</th>\n",
       "      <td>botsort_new_sdk</td>\n",
       "      <td>0.395111</td>\n",
       "      <td>0.406547</td>\n",
       "      <td>0.66048</td>\n",
       "      <td>0.827089</td>\n",
       "      <td>34</td>\n",
       "      <td>2122</td>\n",
       "      <td>863</td>\n",
       "    </tr>\n",
       "  </tbody>\n",
       "</table>\n",
       "</div>"
      ],
      "text/plain": [
       "           tracker      mota      idf1  precision    recall  num_switches  \\\n",
       "0  botsort_new_sdk  0.395111  0.406547    0.66048  0.827089            34   \n",
       "\n",
       "   num_false_positives  num_misses  \n",
       "0                 2122         863  "
      ]
     },
     "execution_count": 3,
     "metadata": {},
     "output_type": "execute_result"
    }
   ],
   "source": [
    "metrics_sdk_yolo = pd.read_excel('../data/eval_result/SportsMOT/sdk_yolo/metrics_1.xlsx')\n",
    "metrics_sdk_yolo"
   ]
  },
  {
   "cell_type": "code",
   "execution_count": null,
   "id": "dc81525e",
   "metadata": {},
   "outputs": [
    {
     "data": {
      "text/html": [
       "<div>\n",
       "<style scoped>\n",
       "    .dataframe tbody tr th:only-of-type {\n",
       "        vertical-align: middle;\n",
       "    }\n",
       "\n",
       "    .dataframe tbody tr th {\n",
       "        vertical-align: top;\n",
       "    }\n",
       "\n",
       "    .dataframe thead th {\n",
       "        text-align: right;\n",
       "    }\n",
       "</style>\n",
       "<table border=\"1\" class=\"dataframe\">\n",
       "  <thead>\n",
       "    <tr style=\"text-align: right;\">\n",
       "      <th></th>\n",
       "      <th>tracker</th>\n",
       "      <th>mota</th>\n",
       "      <th>idf1</th>\n",
       "      <th>precision</th>\n",
       "      <th>recall</th>\n",
       "      <th>num_switches</th>\n",
       "      <th>num_false_positives</th>\n",
       "      <th>num_misses</th>\n",
       "    </tr>\n",
       "  </thead>\n",
       "  <tbody>\n",
       "    <tr>\n",
       "      <th>0</th>\n",
       "      <td>botsort_new_sdk</td>\n",
       "      <td>0.27209</td>\n",
       "      <td>0.344361</td>\n",
       "      <td>0.721019</td>\n",
       "      <td>0.453617</td>\n",
       "      <td>30</td>\n",
       "      <td>876</td>\n",
       "      <td>2727</td>\n",
       "    </tr>\n",
       "  </tbody>\n",
       "</table>\n",
       "</div>"
      ],
      "text/plain": [
       "           tracker     mota      idf1  precision    recall  num_switches  \\\n",
       "0  botsort_new_sdk  0.27209  0.344361   0.721019  0.453617            30   \n",
       "\n",
       "   num_false_positives  num_misses  \n",
       "0                  876        2727  "
      ]
     },
     "execution_count": 3,
     "metadata": {},
     "output_type": "execute_result"
    }
   ],
   "source": [
    "metrics_sdk_yolo11 = pd.read_excel('../data/eval_result/SportsMOT/sdk_yolo11/metrics_1.xlsx')\n",
    "metrics_sdk_yolo11"
   ]
  },
  {
   "cell_type": "code",
   "execution_count": null,
   "id": "5b22b6c3",
   "metadata": {},
   "outputs": [
    {
     "data": {
      "text/html": [
       "<div>\n",
       "<style scoped>\n",
       "    .dataframe tbody tr th:only-of-type {\n",
       "        vertical-align: middle;\n",
       "    }\n",
       "\n",
       "    .dataframe tbody tr th {\n",
       "        vertical-align: top;\n",
       "    }\n",
       "\n",
       "    .dataframe thead th {\n",
       "        text-align: right;\n",
       "    }\n",
       "</style>\n",
       "<table border=\"1\" class=\"dataframe\">\n",
       "  <thead>\n",
       "    <tr style=\"text-align: right;\">\n",
       "      <th></th>\n",
       "      <th>tracker</th>\n",
       "      <th>mota</th>\n",
       "      <th>idf1</th>\n",
       "      <th>precision</th>\n",
       "      <th>recall</th>\n",
       "      <th>num_switches</th>\n",
       "      <th>num_false_positives</th>\n",
       "      <th>num_misses</th>\n",
       "    </tr>\n",
       "  </thead>\n",
       "  <tbody>\n",
       "    <tr>\n",
       "      <th>0</th>\n",
       "      <td>botsort_boxmot_reid</td>\n",
       "      <td>0.412342</td>\n",
       "      <td>0.458049</td>\n",
       "      <td>0.669424</td>\n",
       "      <td>0.826888</td>\n",
       "      <td>31</td>\n",
       "      <td>2038</td>\n",
       "      <td>864</td>\n",
       "    </tr>\n",
       "    <tr>\n",
       "      <th>1</th>\n",
       "      <td>botsort_original_reid</td>\n",
       "      <td>0.408535</td>\n",
       "      <td>0.458984</td>\n",
       "      <td>0.668347</td>\n",
       "      <td>0.823683</td>\n",
       "      <td>32</td>\n",
       "      <td>2040</td>\n",
       "      <td>880</td>\n",
       "    </tr>\n",
       "  </tbody>\n",
       "</table>\n",
       "</div>"
      ],
      "text/plain": [
       "                 tracker      mota      idf1  precision    recall  \\\n",
       "0    botsort_boxmot_reid  0.412342  0.458049   0.669424  0.826888   \n",
       "1  botsort_original_reid  0.408535  0.458984   0.668347  0.823683   \n",
       "\n",
       "   num_switches  num_false_positives  num_misses  \n",
       "0            31                 2038         864  \n",
       "1            32                 2040         880  "
      ]
     },
     "execution_count": 9,
     "metadata": {},
     "output_type": "execute_result"
    }
   ],
   "source": [
    "metrics3"
   ]
  },
  {
   "cell_type": "code",
   "execution_count": null,
   "id": "57786058",
   "metadata": {},
   "outputs": [],
   "source": [
    "metrics_yolo_comparison = pd.concat([metrics_sdk_yolo, metrics3[1:]])"
   ]
  },
  {
   "cell_type": "code",
   "execution_count": null,
   "id": "47c62e86",
   "metadata": {},
   "outputs": [
    {
     "data": {
      "text/html": [
       "<div>\n",
       "<style scoped>\n",
       "    .dataframe tbody tr th:only-of-type {\n",
       "        vertical-align: middle;\n",
       "    }\n",
       "\n",
       "    .dataframe tbody tr th {\n",
       "        vertical-align: top;\n",
       "    }\n",
       "\n",
       "    .dataframe thead th {\n",
       "        text-align: right;\n",
       "    }\n",
       "</style>\n",
       "<table border=\"1\" class=\"dataframe\">\n",
       "  <thead>\n",
       "    <tr style=\"text-align: right;\">\n",
       "      <th></th>\n",
       "      <th>tracker</th>\n",
       "      <th>mota</th>\n",
       "      <th>idf1</th>\n",
       "      <th>precision</th>\n",
       "      <th>recall</th>\n",
       "      <th>num_switches</th>\n",
       "      <th>num_false_positives</th>\n",
       "      <th>num_misses</th>\n",
       "    </tr>\n",
       "  </thead>\n",
       "  <tbody>\n",
       "    <tr>\n",
       "      <th>0</th>\n",
       "      <td>botsort_new_sdk</td>\n",
       "      <td>0.395111</td>\n",
       "      <td>0.406547</td>\n",
       "      <td>0.660480</td>\n",
       "      <td>0.827089</td>\n",
       "      <td>34</td>\n",
       "      <td>2122</td>\n",
       "      <td>863</td>\n",
       "    </tr>\n",
       "    <tr>\n",
       "      <th>1</th>\n",
       "      <td>botsort_original_reid</td>\n",
       "      <td>0.408535</td>\n",
       "      <td>0.458984</td>\n",
       "      <td>0.668347</td>\n",
       "      <td>0.823683</td>\n",
       "      <td>32</td>\n",
       "      <td>2040</td>\n",
       "      <td>880</td>\n",
       "    </tr>\n",
       "  </tbody>\n",
       "</table>\n",
       "</div>"
      ],
      "text/plain": [
       "                 tracker      mota      idf1  precision    recall  \\\n",
       "0        botsort_new_sdk  0.395111  0.406547   0.660480  0.827089   \n",
       "1  botsort_original_reid  0.408535  0.458984   0.668347  0.823683   \n",
       "\n",
       "   num_switches  num_false_positives  num_misses  \n",
       "0            34                 2122         863  \n",
       "1            32                 2040         880  "
      ]
     },
     "execution_count": 12,
     "metadata": {},
     "output_type": "execute_result"
    }
   ],
   "source": [
    "metrics_yolo_comparison"
   ]
  },
  {
   "cell_type": "code",
   "execution_count": null,
   "id": "10cb91c8",
   "metadata": {},
   "outputs": [],
   "source": [
    "import pandas as pd"
   ]
  },
  {
   "cell_type": "code",
   "execution_count": null,
   "id": "ef037b49",
   "metadata": {},
   "outputs": [
    {
     "data": {
      "text/html": [
       "<div>\n",
       "<style scoped>\n",
       "    .dataframe tbody tr th:only-of-type {\n",
       "        vertical-align: middle;\n",
       "    }\n",
       "\n",
       "    .dataframe tbody tr th {\n",
       "        vertical-align: top;\n",
       "    }\n",
       "\n",
       "    .dataframe thead th {\n",
       "        text-align: right;\n",
       "    }\n",
       "</style>\n",
       "<table border=\"1\" class=\"dataframe\">\n",
       "  <thead>\n",
       "    <tr style=\"text-align: right;\">\n",
       "      <th></th>\n",
       "      <th>tracker</th>\n",
       "      <th>mota</th>\n",
       "      <th>idf1</th>\n",
       "      <th>precision</th>\n",
       "      <th>recall</th>\n",
       "      <th>num_switches</th>\n",
       "      <th>num_false_positives</th>\n",
       "      <th>num_misses</th>\n",
       "    </tr>\n",
       "  </thead>\n",
       "  <tbody>\n",
       "    <tr>\n",
       "      <th>0</th>\n",
       "      <td>tracker_results</td>\n",
       "      <td>0.395111</td>\n",
       "      <td>0.406547</td>\n",
       "      <td>0.66048</td>\n",
       "      <td>0.827089</td>\n",
       "      <td>34</td>\n",
       "      <td>2122</td>\n",
       "      <td>863</td>\n",
       "    </tr>\n",
       "  </tbody>\n",
       "</table>\n",
       "</div>"
      ],
      "text/plain": [
       "           tracker      mota      idf1  precision    recall  num_switches  \\\n",
       "0  tracker_results  0.395111  0.406547    0.66048  0.827089            34   \n",
       "\n",
       "   num_false_positives  num_misses  \n",
       "0                 2122         863  "
      ]
     },
     "execution_count": 4,
     "metadata": {},
     "output_type": "execute_result"
    },
    {
     "ename": "",
     "evalue": "",
     "output_type": "error",
     "traceback": [
      "\u001b[1;31mThe Kernel crashed while executing code in the current cell or a previous cell. \n",
      "\u001b[1;31mPlease review the code in the cell(s) to identify a possible cause of the failure. \n",
      "\u001b[1;31mClick <a href='https://aka.ms/vscodeJupyterKernelCrash'>here</a> for more info. \n",
      "\u001b[1;31mView Jupyter <a href='command:jupyter.viewOutput'>log</a> for further details."
     ]
    }
   ],
   "source": [
    "metrics_sdk_v2 = pd.read_excel('../data/eval_result/SportsMOT/sdk_v2_2/metrics_1.xlsx')\n",
    "metrics_sdk_v2"
   ]
  },
  {
   "cell_type": "code",
   "execution_count": null,
   "id": "394180e9",
   "metadata": {},
   "outputs": [],
   "source": [
    "# Правка GT-файла в правильный формат\n",
    "input_path = '../data/dataset/train/v_-6Os86HzwCs_c009/gt/gt.txt'\n",
    "output_path = '../data/dataset/train/v_-6Os86HzwCs_c009/gt/gt_fixed.txt'\n",
    "\n",
    "with open(input_path, 'r') as f_in, open(output_path, 'w') as f_out:\n",
    "    for line in f_in:\n",
    "        parts = [x.strip() for x in line.strip().split(',')]\n",
    "        if len(parts) == 9:\n",
    "            parts += ['-1']\n",
    "        if len(parts) == 10:\n",
    "            f_out.write(','.join(parts) + '\\n')\n",
    "        else:\n",
    "            print(f\"Строка с ошибкой: {line.strip()}\")\n"
   ]
  },
  {
   "cell_type": "code",
   "execution_count": null,
   "id": "ebac3771",
   "metadata": {},
   "outputs": [
    {
     "name": "stdout",
     "output_type": "stream",
     "text": [
      "sbs_R50-ibn.yml\n",
      "sbs_S50.yml\n",
      "mgn_R50-ibn.yml\n",
      "sbs_R50.yml\n",
      "AGW_S50.yml\n",
      "AGW_R50.yml\n",
      "bagtricks_R50.yml\n",
      "bagtricks_R50-ibn.yml\n",
      "AGW_R101-ibn.yml\n",
      "bagtricks_R101-ibn.yml\n",
      "sbs_R101-ibn.yml\n",
      "AGW_R50-ibn.yml\n",
      "bagtricks_S50.yml\n"
     ]
    }
   ],
   "source": [
    "import os \n",
    "\n",
    "for m in os.listdir('/root/tracking-by-detection/botsort/fast_reid/configs/MOT17'):\n",
    "    print(m)"
   ]
  },
  {
   "cell_type": "code",
   "execution_count": null,
   "id": "8f8ad2fb",
   "metadata": {},
   "outputs": [],
   "source": [
    "from supervisely import Frame"
   ]
  },
  {
   "cell_type": "code",
   "execution_count": null,
   "id": "c138a8ed",
   "metadata": {},
   "outputs": [
    {
     "ename": "ModuleNotFoundError",
     "evalue": "No module named 'boxmot'",
     "output_type": "error",
     "traceback": [
      "\u001b[0;31m---------------------------------------------------------------------------\u001b[0m",
      "\u001b[0;31mModuleNotFoundError\u001b[0m                       Traceback (most recent call last)",
      "Cell \u001b[0;32mIn[43], line 3\u001b[0m\n\u001b[1;32m      1\u001b[0m \u001b[38;5;28;01mimport\u001b[39;00m\u001b[38;5;250m \u001b[39m\u001b[38;5;21;01msupervisely\u001b[39;00m\u001b[38;5;250m \u001b[39m\u001b[38;5;28;01mas\u001b[39;00m\u001b[38;5;250m \u001b[39m\u001b[38;5;21;01msly\u001b[39;00m\n\u001b[1;32m      2\u001b[0m \u001b[38;5;28;01mfrom\u001b[39;00m\u001b[38;5;250m \u001b[39m\u001b[38;5;21;01msupervisely\u001b[39;00m\u001b[38;5;21;01m.\u001b[39;00m\u001b[38;5;21;01mnn\u001b[39;00m\u001b[38;5;21;01m.\u001b[39;00m\u001b[38;5;21;01mtracker\u001b[39;00m\u001b[38;5;21;01m.\u001b[39;00m\u001b[38;5;21;01mbotsort\u001b[39;00m\u001b[38;5;21;01m.\u001b[39;00m\u001b[38;5;21;01msly_tracker\u001b[39;00m\u001b[38;5;250m \u001b[39m\u001b[38;5;28;01mimport\u001b[39;00m BoTTracker\n\u001b[0;32m----> 3\u001b[0m \u001b[38;5;28;01mimport\u001b[39;00m\u001b[38;5;250m \u001b[39m\u001b[38;5;21;01mboxmot\u001b[39;00m\n\u001b[1;32m      4\u001b[0m \u001b[38;5;28;01mfrom\u001b[39;00m\u001b[38;5;250m \u001b[39m\u001b[38;5;21;01mpathlib\u001b[39;00m\u001b[38;5;250m \u001b[39m\u001b[38;5;28;01mimport\u001b[39;00m Path\n\u001b[1;32m      5\u001b[0m \u001b[38;5;28;01mimport\u001b[39;00m\u001b[38;5;250m \u001b[39m\u001b[38;5;21;01myaml\u001b[39;00m\n",
      "\u001b[0;31mModuleNotFoundError\u001b[0m: No module named 'boxmot'"
     ]
    }
   ],
   "source": [
    "import supervisely as sly\n",
    "from supervisely.nn.tracker.botsort.sly_tracker import BoTTracker\n",
    "import boxmot\n",
    "from pathlib import Path\n",
    "import yaml\n",
    "from types import SimpleNamespace\n",
    "\n",
    "\n",
    "def parse_args():\n",
    "    \n",
    "    with open('../configs/track_config.yaml', 'r') as f:\n",
    "        config = yaml.safe_load(f)\n",
    "\n",
    "    return SimpleNamespace(**config)\n",
    "\n",
    "args = parse_args()\n",
    "\n",
    "tracker_settings = {\n",
    "        \"track_high_thresh\": args.track_high_thresh,\n",
    "        \"track_low_thresh\": args.track_low_thresh,\n",
    "        \"new_track_thresh\": args.new_track_thresh,\n",
    "        \"track_buffer\": args.track_buffer,\n",
    "        \"match_thresh\": args.match_thresh,\n",
    "        \"min_box_area\": getattr(args, 'min_box_area', 10.0),\n",
    "        \"fuse_score\": getattr(args, 'fuse_score', False),\n",
    "        \"with_reid\": args.with_reid,\n",
    "        \"proximity_thresh\": args.proximity_thresh,\n",
    "        \"appearance_thresh\": args.appearance_thresh,\n",
    "        \"cmc_method\": args.cmc_method,\n",
    "        \"device\": 'cuda',  # Передаем устройство явно\n",
    "        \"device_id\": getattr(args, 'device_id', '0'),  # Добавляем device_id\n",
    "    }\n",
    "\n",
    "if args.with_reid:\n",
    "    tracker_settings.update({\n",
    "        \"reid_model\": getattr(args, 'reid_model', 'osnet_reid'),\n",
    "        \"reid_weights\": getattr(args, 'reid_weights', None),\n",
    "        \"fast_reid_config\": getattr(args, 'fast_reid_config', None),\n",
    "        \"fast_reid_weights\": getattr(args, 'fast_reid_weights', None),\n",
    "    })\n",
    "        \n",
    "api = sly.Api()\n",
    "\n",
    "# Deploy a detector\n",
    "detector = api.nn.deploy(\n",
    "    model=\"rt-detrv2/RT-DETRv2-M\",\n",
    "    device=\"cuda:0\",  # Use GPU for detection\n",
    ")\n",
    "\n",
    "tracker = BoTTracker(settings=tracker_settings)\n",
    "# Track objects in a single line"
   ]
  },
  {
   "cell_type": "code",
   "execution_count": null,
   "id": "0d10506f",
   "metadata": {},
   "outputs": [
    {
     "name": "stderr",
     "output_type": "stream",
     "text": [
      "{\"message\": \"Using torch 2.7.1+cu126 CUDA:0 (NVIDIA GeForce RTX 4090, 24210.3125MB)\", \"timestamp\": \"2025-07-23T17:40:07.406Z\", \"level\": \"info\"}\n",
      "{\"message\": \"\", \"timestamp\": \"2025-07-23T17:40:07.407Z\", \"level\": \"info\"}\n"
     ]
    }
   ],
   "source": [
    "tracker = BoTTracker()"
   ]
  },
  {
   "cell_type": "code",
   "execution_count": null,
   "id": "77b3d05e",
   "metadata": {},
   "outputs": [
    {
     "data": {
      "text/plain": [
       "Namespace(name=None, ablation=None, track_high_thresh=0.6, track_low_thresh=0.1, new_track_thresh=0.7, track_buffer=30, match_thresh=0.5, min_box_area=10, fuse_score=False, cmc_method='sparseOptFlow', gmc_config=None, with_reid=False, reid_model='osnet_reid', fast_reid_config='/root/tracking-by-detection/supervisely/supervisely/nn/tracker/botsort/fast_reid/configs/MOT17/sbs_S50.yml', reid_weights=None, fast_reid_weights_url='https://github.com/WongKinYiu/yolov7/releases/download/v0.1/yolov7.pt', proximity_thresh=0.5, appearance_thresh=0.25, device='')"
      ]
     },
     "execution_count": 11,
     "metadata": {},
     "output_type": "execute_result"
    }
   ],
   "source": [
    "tracker.args"
   ]
  },
  {
   "cell_type": "code",
   "execution_count": null,
   "id": "f56b1e82",
   "metadata": {},
   "outputs": [],
   "source": [
    "from supervisely import Annotation, Label, Rectangle, ObjClass, Frame"
   ]
  },
  {
   "cell_type": "code",
   "execution_count": null,
   "id": "af8dd758",
   "metadata": {},
   "outputs": [
    {
     "name": "stdout",
     "output_type": "stream",
     "text": [
      "['__class__', '__delattr__', '__dict__', '__dir__', '__doc__', '__eq__', '__format__', '__ge__', '__getattribute__', '__gt__', '__hash__', '__init__', '__init_subclass__', '__le__', '__lt__', '__module__', '__ne__', '__new__', '__reduce__', '__reduce_ex__', '__repr__', '__setattr__', '__sizeof__', '__str__', '__subclasshook__', '__weakref__', '_add_labels_impl', '_draw_tags', '_get_font', '_get_thickness', '_to_pixel_coordinate_system_json', '_to_subpixel_coordinate_system_json', 'add_bg_object', 'add_label', 'add_labels', 'add_pixelwise_score_label', 'add_pixelwise_score_labels', 'add_tag', 'add_tags', 'bboxes_to_imgaug', 'clone', 'crop_labels', 'custom_data', 'delete_label', 'delete_tag', 'delete_tag_by_name', 'delete_tags', 'delete_tags_by_name', 'discard_bindings', 'draw', 'draw_class_idx_rgb', 'draw_contour', 'draw_pretty', 'filter_labels_by_classes', 'filter_labels_by_min_side', 'fliplr', 'flipud', 'from_img_path', 'from_imgaug', 'from_json', 'get_bindings', 'get_label_by_id', 'image_id', 'img_description', 'img_size', 'img_tags', 'is_empty', 'labels', 'load_json_file', 'masks_to_imgaug', 'merge', 'pixelwise_scores_labels', 'relative_crop', 'resize', 'rotate', 'scale', 'stat_area', 'stat_class_count', 'to_coco', 'to_detection_task', 'to_indexed_color_mask', 'to_json', 'to_nonoverlapping_masks', 'to_pascal_voc', 'to_segmentation_task', 'to_yolo', 'transform_labels']\n",
      "['__class__', '__delattr__', '__dict__', '__dir__', '__doc__', '__eq__', '__format__', '__ge__', '__getattribute__', '__gt__', '__hash__', '__init__', '__init_subclass__', '__le__', '__lt__', '__module__', '__ne__', '__new__', '__reduce__', '__reduce_ex__', '__repr__', '__setattr__', '__sizeof__', '__str__', '__subclasshook__', '__weakref__', '_draw_class_name', '_draw_tags', '_get_font', '_to_pixel_coordinate_system_json', '_to_subpixel_coordinate_system_json', '_validate_geometry', '_validate_geometry_type', 'add_tag', 'add_tags', 'area', 'binding_key', 'clone', 'convert', 'crop', 'description', 'draw', 'draw_contour', 'fliplr', 'flipud', 'from_json', 'geometry', 'get_mask', 'labeler_login', 'obj_class', 'relative_crop', 'resize', 'rotate', 'scale', 'sly_id', 'smart_tool_input', 'tags', 'to_json', 'translate']\n",
      "['__class__', '__delattr__', '__dict__', '__dir__', '__doc__', '__eq__', '__format__', '__ge__', '__getattribute__', '__gt__', '__hash__', '__init__', '__init_subclass__', '__le__', '__lt__', '__module__', '__ne__', '__new__', '__reduce__', '__reduce_ex__', '__repr__', '__setattr__', '__sizeof__', '__str__', '__subclasshook__', '__weakref__', '_add_creation_info', '_copy_creation_info_inplace', '_draw_bool_compatible', '_draw_contour_impl', '_draw_impl', '_round_subpixel_coordinates', '_to_pixel_coordinate_system_json', '_to_subpixel_coordinate_system_json', '_transform', 'allowed_transforms', 'area', 'bottom', 'center', 'clone', 'config_from_json', 'config_to_json', 'contains', 'contains_point_location', 'convert', 'corners', 'crop', 'draw', 'draw_contour', 'fliplr', 'flipud', 'from_array', 'from_geometries_list', 'from_json', 'from_size', 'geometry_name', 'get_cropped_numpy_slice', 'get_mask', 'height', 'intersects_with', 'left', 'name', 'relative_crop', 'resize', 'right', 'rotate', 'scale', 'to_bbox', 'to_json', 'to_size', 'top', 'translate', 'validate', 'width']\n",
      "['__class__', '__delattr__', '__dict__', '__dir__', '__doc__', '__eq__', '__format__', '__ge__', '__getattribute__', '__gt__', '__hash__', '__init__', '__init_subclass__', '__le__', '__lt__', '__module__', '__ne__', '__new__', '__reduce__', '__reduce_ex__', '__repr__', '__setattr__', '__sizeof__', '__str__', '__subclasshook__', '__weakref__', '_set_id', 'clone', 'color', 'description', 'from_json', 'geometry_config', 'geometry_type', 'get_header_ptable', 'get_row_ptable', 'hotkey', 'key', 'name', 'sly_id', 'to_json']\n"
     ]
    }
   ],
   "source": [
    "print(dir(Annotation))\n",
    "print(dir(Label))\n",
    "print(dir(Rectangle))\n",
    "print(dir(ObjClass))\n"
   ]
  },
  {
   "cell_type": "code",
   "execution_count": null,
   "id": "a7822ff8",
   "metadata": {},
   "outputs": [],
   "source": [
    "print(\"VideoObject attributes:\")\n",
    "print(dir(video_object))"
   ]
  },
  {
   "cell_type": "code",
   "execution_count": null,
   "id": "8df76cff",
   "metadata": {},
   "outputs": [
    {
     "data": {
      "text/plain": [
       "['__class__',\n",
       " '__delattr__',\n",
       " '__delete__',\n",
       " '__dir__',\n",
       " '__doc__',\n",
       " '__eq__',\n",
       " '__format__',\n",
       " '__ge__',\n",
       " '__get__',\n",
       " '__getattribute__',\n",
       " '__gt__',\n",
       " '__hash__',\n",
       " '__init__',\n",
       " '__init_subclass__',\n",
       " '__isabstractmethod__',\n",
       " '__le__',\n",
       " '__lt__',\n",
       " '__ne__',\n",
       " '__new__',\n",
       " '__reduce__',\n",
       " '__reduce_ex__',\n",
       " '__repr__',\n",
       " '__set__',\n",
       " '__setattr__',\n",
       " '__sizeof__',\n",
       " '__str__',\n",
       " '__subclasshook__',\n",
       " 'deleter',\n",
       " 'fdel',\n",
       " 'fget',\n",
       " 'fset',\n",
       " 'getter',\n",
       " 'setter']"
      ]
     },
     "execution_count": 12,
     "metadata": {},
     "output_type": "execute_result"
    }
   ],
   "source": [
    "dir(Frame.figures)"
   ]
  }
 ],
 "metadata": {
  "kernelspec": {
   "display_name": "venv2",
   "language": "python",
   "name": "python3"
  },
  "language_info": {
   "codemirror_mode": {
    "name": "ipython",
    "version": 3
   },
   "file_extension": ".py",
   "mimetype": "text/x-python",
   "name": "python",
   "nbconvert_exporter": "python",
   "pygments_lexer": "ipython3",
   "version": "3.10.12"
  }
 },
 "nbformat": 4,
 "nbformat_minor": 5
}
